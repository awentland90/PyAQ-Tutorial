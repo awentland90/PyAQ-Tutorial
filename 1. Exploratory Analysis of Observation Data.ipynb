{
 "cells": [
  {
   "cell_type": "markdown",
   "metadata": {},
   "source": [
    "## Background on this dataset\n",
    "For this example, I will conducting exploratory analysis on an hourly ozone dataset from an air quality site at the University of Milwaukee. This data set contains hourly data for the year of 2012. I have used data from the year 2012 because it was an especially warm year so we expect higher than usual tropospheric ozone. I'm using the UW-Milwaukee site because 1. I am from Milwaukee (but go Badgers!) 2. Coastal ozone above and near Lake Michigan is a topic of ongoing research inquiry.\n",
    "\n",
    "### Loading CSV data\n",
    "First, we want to load our dataset, 'AQS_O3_Daily_UWM.csv', into the Python environment. I recommend using the Pandas library to import and wrangle CSV data sets. If you are familiar with the R programming language, you hopefully will find this to be similar since Pandas also uses dataframes.\n"
   ]
  },
  {
   "cell_type": "code",
   "execution_count": 2,
   "metadata": {
    "collapsed": true
   },
   "outputs": [],
   "source": [
    "import pandas as pd"
   ]
  },
  {
   "cell_type": "code",
   "execution_count": 3,
   "metadata": {
    "collapsed": false
   },
   "outputs": [],
   "source": [
    "raw_hourly_ozone = pd.read_csv(\"AQS_O3_Daily_UWM.csv\")"
   ]
  },
  {
   "cell_type": "markdown",
   "metadata": {},
   "source": [
    "### Exploratory Analysis\n",
    "Now that we have the CSV file loaded in as a dataframe, let's take a look at the first 5 rows to see what columns we have and the values and data types associated with each are."
   ]
  },
  {
   "cell_type": "code",
   "execution_count": 4,
   "metadata": {
    "collapsed": false
   },
   "outputs": [
    {
     "data": {
      "text/html": [
       "<div>\n",
       "<table border=\"1\" class=\"dataframe\">\n",
       "  <thead>\n",
       "    <tr style=\"text-align: right;\">\n",
       "      <th></th>\n",
       "      <th>Latitude</th>\n",
       "      <th>Longitude</th>\n",
       "      <th>Datum</th>\n",
       "      <th>Horizontal Accuracy</th>\n",
       "      <th>State Code</th>\n",
       "      <th>County Code</th>\n",
       "      <th>Site Num</th>\n",
       "      <th>Parameter Code</th>\n",
       "      <th>POC</th>\n",
       "      <th>AQS Parameter Desc</th>\n",
       "      <th>...</th>\n",
       "      <th>Day In Year GMT</th>\n",
       "      <th>Sample Measurement</th>\n",
       "      <th>Units of Measure</th>\n",
       "      <th>Sample Duration</th>\n",
       "      <th>Sample Frequency</th>\n",
       "      <th>Detection Limit</th>\n",
       "      <th>Measurement Uncertainty</th>\n",
       "      <th>Qualifier Description</th>\n",
       "      <th>Method Type</th>\n",
       "      <th>Method Description</th>\n",
       "    </tr>\n",
       "  </thead>\n",
       "  <tbody>\n",
       "    <tr>\n",
       "      <th>0</th>\n",
       "      <td>43.060975</td>\n",
       "      <td>-87.913504</td>\n",
       "      <td>WGS84</td>\n",
       "      <td>5.0</td>\n",
       "      <td>55.0</td>\n",
       "      <td>79.0</td>\n",
       "      <td>26.0</td>\n",
       "      <td>44201.0</td>\n",
       "      <td>1.0</td>\n",
       "      <td>Ozone</td>\n",
       "      <td>...</td>\n",
       "      <td>300.0</td>\n",
       "      <td>0.018</td>\n",
       "      <td>Parts per million</td>\n",
       "      <td>1 HOUR</td>\n",
       "      <td>NaN</td>\n",
       "      <td>0.005</td>\n",
       "      <td>NaN</td>\n",
       "      <td>NaN</td>\n",
       "      <td>Equivalent</td>\n",
       "      <td>INSTRUMENTAL-ULTRA VIOLET ABSORPTION</td>\n",
       "    </tr>\n",
       "    <tr>\n",
       "      <th>1</th>\n",
       "      <td>43.060975</td>\n",
       "      <td>-87.913504</td>\n",
       "      <td>WGS84</td>\n",
       "      <td>5.0</td>\n",
       "      <td>55.0</td>\n",
       "      <td>79.0</td>\n",
       "      <td>26.0</td>\n",
       "      <td>44201.0</td>\n",
       "      <td>1.0</td>\n",
       "      <td>Ozone</td>\n",
       "      <td>...</td>\n",
       "      <td>48.0</td>\n",
       "      <td>0.018</td>\n",
       "      <td>Parts per million</td>\n",
       "      <td>1 HOUR</td>\n",
       "      <td>NaN</td>\n",
       "      <td>0.005</td>\n",
       "      <td>NaN</td>\n",
       "      <td>NaN</td>\n",
       "      <td>Equivalent</td>\n",
       "      <td>INSTRUMENTAL-ULTRA VIOLET ABSORPTION</td>\n",
       "    </tr>\n",
       "    <tr>\n",
       "      <th>2</th>\n",
       "      <td>43.060975</td>\n",
       "      <td>-87.913504</td>\n",
       "      <td>WGS84</td>\n",
       "      <td>5.0</td>\n",
       "      <td>55.0</td>\n",
       "      <td>79.0</td>\n",
       "      <td>26.0</td>\n",
       "      <td>44201.0</td>\n",
       "      <td>1.0</td>\n",
       "      <td>Ozone</td>\n",
       "      <td>...</td>\n",
       "      <td>244.0</td>\n",
       "      <td>0.050</td>\n",
       "      <td>Parts per million</td>\n",
       "      <td>1 HOUR</td>\n",
       "      <td>NaN</td>\n",
       "      <td>0.005</td>\n",
       "      <td>NaN</td>\n",
       "      <td>NaN</td>\n",
       "      <td>Equivalent</td>\n",
       "      <td>INSTRUMENTAL-ULTRA VIOLET ABSORPTION</td>\n",
       "    </tr>\n",
       "    <tr>\n",
       "      <th>3</th>\n",
       "      <td>43.060975</td>\n",
       "      <td>-87.913504</td>\n",
       "      <td>WGS84</td>\n",
       "      <td>5.0</td>\n",
       "      <td>55.0</td>\n",
       "      <td>79.0</td>\n",
       "      <td>26.0</td>\n",
       "      <td>44201.0</td>\n",
       "      <td>1.0</td>\n",
       "      <td>Ozone</td>\n",
       "      <td>...</td>\n",
       "      <td>91.0</td>\n",
       "      <td>0.033</td>\n",
       "      <td>Parts per million</td>\n",
       "      <td>1 HOUR</td>\n",
       "      <td>NaN</td>\n",
       "      <td>0.005</td>\n",
       "      <td>NaN</td>\n",
       "      <td>NaN</td>\n",
       "      <td>Equivalent</td>\n",
       "      <td>INSTRUMENTAL-ULTRA VIOLET ABSORPTION</td>\n",
       "    </tr>\n",
       "    <tr>\n",
       "      <th>4</th>\n",
       "      <td>43.060975</td>\n",
       "      <td>-87.913504</td>\n",
       "      <td>WGS84</td>\n",
       "      <td>5.0</td>\n",
       "      <td>55.0</td>\n",
       "      <td>79.0</td>\n",
       "      <td>26.0</td>\n",
       "      <td>44201.0</td>\n",
       "      <td>1.0</td>\n",
       "      <td>Ozone</td>\n",
       "      <td>...</td>\n",
       "      <td>27.0</td>\n",
       "      <td>0.014</td>\n",
       "      <td>Parts per million</td>\n",
       "      <td>1 HOUR</td>\n",
       "      <td>NaN</td>\n",
       "      <td>0.005</td>\n",
       "      <td>NaN</td>\n",
       "      <td>NaN</td>\n",
       "      <td>Equivalent</td>\n",
       "      <td>INSTRUMENTAL-ULTRA VIOLET ABSORPTION</td>\n",
       "    </tr>\n",
       "  </tbody>\n",
       "</table>\n",
       "<p>5 rows × 25 columns</p>\n",
       "</div>"
      ],
      "text/plain": [
       "    Latitude  Longitude  Datum  Horizontal Accuracy  State Code  County Code  \\\n",
       "0  43.060975 -87.913504  WGS84                  5.0        55.0         79.0   \n",
       "1  43.060975 -87.913504  WGS84                  5.0        55.0         79.0   \n",
       "2  43.060975 -87.913504  WGS84                  5.0        55.0         79.0   \n",
       "3  43.060975 -87.913504  WGS84                  5.0        55.0         79.0   \n",
       "4  43.060975 -87.913504  WGS84                  5.0        55.0         79.0   \n",
       "\n",
       "   Site Num  Parameter Code  POC AQS Parameter Desc  \\\n",
       "0      26.0         44201.0  1.0              Ozone   \n",
       "1      26.0         44201.0  1.0              Ozone   \n",
       "2      26.0         44201.0  1.0              Ozone   \n",
       "3      26.0         44201.0  1.0              Ozone   \n",
       "4      26.0         44201.0  1.0              Ozone   \n",
       "\n",
       "                   ...                  Day In Year GMT Sample Measurement  \\\n",
       "0                  ...                            300.0              0.018   \n",
       "1                  ...                             48.0              0.018   \n",
       "2                  ...                            244.0              0.050   \n",
       "3                  ...                             91.0              0.033   \n",
       "4                  ...                             27.0              0.014   \n",
       "\n",
       "    Units of Measure Sample Duration  Sample Frequency  Detection Limit  \\\n",
       "0  Parts per million          1 HOUR               NaN            0.005   \n",
       "1  Parts per million          1 HOUR               NaN            0.005   \n",
       "2  Parts per million          1 HOUR               NaN            0.005   \n",
       "3  Parts per million          1 HOUR               NaN            0.005   \n",
       "4  Parts per million          1 HOUR               NaN            0.005   \n",
       "\n",
       "   Measurement Uncertainty Qualifier Description Method Type  \\\n",
       "0                      NaN                   NaN  Equivalent   \n",
       "1                      NaN                   NaN  Equivalent   \n",
       "2                      NaN                   NaN  Equivalent   \n",
       "3                      NaN                   NaN  Equivalent   \n",
       "4                      NaN                   NaN  Equivalent   \n",
       "\n",
       "                     Method Description  \n",
       "0  INSTRUMENTAL-ULTRA VIOLET ABSORPTION  \n",
       "1  INSTRUMENTAL-ULTRA VIOLET ABSORPTION  \n",
       "2  INSTRUMENTAL-ULTRA VIOLET ABSORPTION  \n",
       "3  INSTRUMENTAL-ULTRA VIOLET ABSORPTION  \n",
       "4  INSTRUMENTAL-ULTRA VIOLET ABSORPTION  \n",
       "\n",
       "[5 rows x 25 columns]"
      ]
     },
     "execution_count": 4,
     "metadata": {},
     "output_type": "execute_result"
    }
   ],
   "source": [
    "raw_hourly_ozone.head(5)"
   ]
  },
  {
   "cell_type": "markdown",
   "metadata": {},
   "source": [
    "### Data Manipulation\n",
    "At first glance, we see the 'Day In Year GMT' column is not in order so we want to order our data by date and time. It's also standard to convert ozone from units of parts per million to parts per billion so we'll also apply that conversion below as well."
   ]
  },
  {
   "cell_type": "code",
   "execution_count": 5,
   "metadata": {
    "collapsed": false
   },
   "outputs": [],
   "source": [
    "raw_hourly_ozone_sorted = raw_hourly_ozone.sort_values(['Date Local', '24 Hour Local'], ascending=[True, True])"
   ]
  },
  {
   "cell_type": "code",
   "execution_count": 6,
   "metadata": {
    "collapsed": false
   },
   "outputs": [],
   "source": [
    "raw_hourly_ozone_only_sorted = raw_hourly_ozone_sorted['Sample Measurement']*1000"
   ]
  },
  {
   "cell_type": "markdown",
   "metadata": {},
   "source": [
    "### Digging Deeper\n",
    "Now that our data is nice and orderly and in more 'human friendly' units, let's get some basic statistics on our ozone measurements using Pandas' describe() function so we have a better grasp that:\n",
    "\n",
    "1. We understand the variation of our dataset \n",
    "2. We do a quick, intuitive spot check to verify it's reasonable"
   ]
  },
  {
   "cell_type": "code",
   "execution_count": 7,
   "metadata": {
    "collapsed": false
   },
   "outputs": [
    {
     "data": {
      "text/plain": [
       "count    8718.000000\n",
       "mean       28.948383\n",
       "std        17.140944\n",
       "min         0.000000\n",
       "25%        17.000000\n",
       "50%        27.500000\n",
       "75%        38.000000\n",
       "max       107.000000\n",
       "Name: Sample Measurement, dtype: float64"
      ]
     },
     "execution_count": 7,
     "metadata": {},
     "output_type": "execute_result"
    }
   ],
   "source": [
    "raw_hourly_ozone_only_sorted.describe()"
   ]
  },
  {
   "cell_type": "markdown",
   "metadata": {},
   "source": [
    "Given that this dataset is from Milwaukee and it is generally a cooler place, a mean of 29ppb and a max of 107ppb seems reasonable. That said, something that stands out to someone who has spent too much time of their life tracking down missing data. The total count of data points does not equal the number of hours in a leap year."
   ]
  },
  {
   "cell_type": "code",
   "execution_count": 8,
   "metadata": {
    "collapsed": false
   },
   "outputs": [
    {
     "name": "stdout",
     "output_type": "stream",
     "text": [
      "0.9924863387978142\n"
     ]
    }
   ],
   "source": [
    "print(8718/(366*24))"
   ]
  },
  {
   "cell_type": "markdown",
   "metadata": {},
   "source": [
    "### Subsetting Data\n",
    "If you look at the dataset in Excel, you'll see that indeed there is data missing for several hours throughout the year. There are a couple of ways to deal with this, but since this is an introductory tutorial, I will just take a small subset of the data during the first week of July to conduct further exploration on. I'll use the loc function in conjunction with the 'Date Local' column in our dataframe to subset our data."
   ]
  },
  {
   "cell_type": "code",
   "execution_count": 9,
   "metadata": {
    "collapsed": false
   },
   "outputs": [],
   "source": [
    "hourly_ozone_july = raw_hourly_ozone_sorted.loc[(raw_hourly_ozone_sorted['Date Local'] >= '2012-07-01') & (raw_hourly_ozone_sorted['Date Local'] < '2012-07-08')]"
   ]
  },
  {
   "cell_type": "markdown",
   "metadata": {},
   "source": [
    "### Data Visualization\n",
    "Now let's have some fun and get fancy with some plots. My go-to library to conduct data viz in Python is matplotlib with the addendum that I like to use R's ggplot library style. Below I import matplotlib's pyplot and then tell it to use the style of ggplot. I do this because ggplot's style is superior to the standard matplotlib style. If you disagree, well, that's just like your opinion, man.\n",
    "\n",
    "\n",
    "#### Creating Histograms\n",
    "After importing pyplot, I create a historgram of ozone measurements into 15 bins and add black outlines to the bins to make them distinct to the viewer. I also add some labels because we want readers to know what we are plotting."
   ]
  },
  {
   "cell_type": "code",
   "execution_count": 10,
   "metadata": {
    "collapsed": false
   },
   "outputs": [],
   "source": [
    "import matplotlib.pyplot as plt\n",
    "plt.style.use('ggplot')"
   ]
  },
  {
   "cell_type": "code",
   "execution_count": 11,
   "metadata": {
    "collapsed": false
   },
   "outputs": [
    {
     "data": {
      "image/png": "[encoded data removed]",
      "text/plain": [
       "<matplotlib.figure.Figure at 0x111408a58>"
      ]
     },
     "metadata": {},
     "output_type": "display_data"
    }
   ],
   "source": [
    "plt.hist(hourly_ozone_july['Sample Measurement']*1000, bins=15, ec='black')\n",
    "plt.xlabel('Ozone Concentration')\n",
    "plt.ylabel('Count')\n",
    "plt.title(' Milwaukee Ozone Distribution \\n July 1 - July 7, 2012')\n",
    "plt.show()"
   ]
  },
  {
   "cell_type": "markdown",
   "metadata": {},
   "source": [
    "#### A Moment of Zen\n",
    "Before we jump into a new plot, take a moment to look at the histogram we made and if anything catches your eye. The first thing I notice is that it is not a simple normal distribution but instead it is bimodal in nature. This is where some first order knowledge in tropospheric chemistry will come in useful. What we are see in the left mode is likely ozone concentrations during the evening and night when ozone is commonly the lowest. The right mode is likely ozone observed during the day when freshly emitted NOx and VOCs are undergoing photolyzation and creating 'new' ozone. Now let's make a timeseries to see if our guess is right.\n",
    "\n",
    "#### Creating A Time Series\n",
    "Since we had two columns for both date and time, I use a dirty hack to quickly generate a single dataframe column for the week we are analyzing using the date_range function.\n",
    "\n",
    "Using pyplot's plot function, I use time for our x-axis, and ozone concentration (that we ordered by time a few steps back) for our y-axis. After adding some specifications for style and labels, sure enough, we see during the day ozone often reaches above 60 ppb and during the night drops below 60 ppb. 60 ppb is signigiant here because if we look back at the histogram we'll see that's right where our 2 modal distributions are split."
   ]
  },
  {
   "cell_type": "code",
   "execution_count": 12,
   "metadata": {
    "collapsed": false
   },
   "outputs": [
    {
     "data": {
      "image/png": "[encoded data removed]",
      "text/plain": [
       "<matplotlib.figure.Figure at 0x11490f550>"
      ]
     },
     "metadata": {},
     "output_type": "display_data"
    }
   ],
   "source": [
    "time = pd.date_range('7/1/2012', '7/8/2012', freq='H', closed=\"right\")\n",
    "plt.plot(time, hourly_ozone_july['Sample Measurement']*1000, color=\"blue\", linewidth=1.0, linestyle=\"-\")\n",
    "plt.xlabel('Date')\n",
    "plt.ylabel('Hourly O3 (ppb)')\n",
    "plt.title(' Milwaukee Ozone Concentration \\n July 1 - July 7, 2012')\n",
    "plt.xticks(rotation=45)\n",
    "plt.show()"
   ]
  }
 ],
 "metadata": {
  "anaconda-cloud": {},
  "kernelspec": {
   "display_name": "Python [conda env:python3]",
   "language": "python",
   "name": "conda-env-python3-py"
  },
  "language_info": {
   "codemirror_mode": {
    "name": "ipython",
    "version": 3
   },
   "file_extension": ".py",
   "mimetype": "text/x-python",
   "name": "python",
   "nbconvert_exporter": "python",
   "pygments_lexer": "ipython3",
   "version": "3.5.2"
  }
 },
 "nbformat": 4,
 "nbformat_minor": 1
}
